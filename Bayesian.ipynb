{
  "nbformat": 4,
  "nbformat_minor": 0,
  "metadata": {
    "colab": {
      "name": "Bayesian.ipynb",
      "provenance": [],
      "authorship_tag": "ABX9TyPRUh9miHxi3MhxXCJ+gtC5",
      "include_colab_link": true
    },
    "kernelspec": {
      "name": "python3",
      "display_name": "Python 3"
    }
  },
  "cells": [
    {
      "cell_type": "markdown",
      "metadata": {
        "id": "view-in-github",
        "colab_type": "text"
      },
      "source": [
        "<a href=\"https://colab.research.google.com/github/PloyTara/BayesianTest/blob/main/Bayesian.ipynb\" target=\"_parent\"><img src=\"https://colab.research.google.com/assets/colab-badge.svg\" alt=\"Open In Colab\"/></a>"
      ]
    },
    {
      "cell_type": "code",
      "metadata": {
        "id": "CmME8XtNO5uP"
      },
      "source": [
        "# calculate the probability of cancer patient and diagnostic test\r\n",
        "\r\n",
        "# calculate P(A|B) given P(A), P(B|A), P(B|not A)\r\n",
        "def bayes_theorem(p_a, p_b_given_a, p_b_given_not_a):\r\n",
        "\t# calculate P(not A)\r\n",
        "\tnot_a = 1 - p_a\r\n",
        "\t# calculate P(B)\r\n",
        "\tp_b = p_b_given_a * p_a + p_b_given_not_a * not_a\r\n",
        "\t# calculate P(A|B)\r\n",
        "\tp_a_given_b = (p_b_given_a * p_a) / p_b\r\n",
        "\treturn p_a_given_b\r\n",
        "\r\n",
        "# P(A)\r\n",
        "p_a = 0.0002\r\n",
        "# P(B|A)\r\n",
        "p_b_given_a = 0.85\r\n",
        "# P(B|not A)\r\n",
        "p_b_given_not_a = 0.05\r\n",
        "# calculate P(A|B)\r\n",
        "result = bayes_theorem(p_a, p_b_given_a, p_b_given_not_a)\r\n",
        "# summarize\r\n",
        "print('P(A|B) = %.3f%%' % (result * 100))"
      ],
      "execution_count": null,
      "outputs": []
    }
  ]
}